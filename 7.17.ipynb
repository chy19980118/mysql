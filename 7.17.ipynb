{
 "cells": [
  {
   "cell_type": "markdown",
   "metadata": {},
   "source": [
    "# 数学函数、字符串和对象\n",
    "## 本章介绍Python函数来执行常见的数学运算\n",
    "- 函数是完成一个特殊任务的一组语句，可以理解为一个函数相当于一个小功能，但是在开发中，需要注意一个函数的长度最好不要超过一屏\n",
    "- Python中的内置函数是不需要Import导入的\n",
    "<img src=\"../Photo/15.png\"></img>"
   ]
  },
  {
   "cell_type": "code",
   "execution_count": 1,
   "metadata": {},
   "outputs": [
    {
     "data": {
      "text/plain": [
       "'r'"
      ]
     },
     "execution_count": 1,
     "metadata": {},
     "output_type": "execute_result"
    }
   ],
   "source": [
    "max('joker')"
   ]
  },
  {
   "cell_type": "code",
   "execution_count": 1,
   "metadata": {},
   "outputs": [],
   "source": [
    "import math"
   ]
  },
  {
   "cell_type": "code",
   "execution_count": 2,
   "metadata": {},
   "outputs": [
    {
     "data": {
      "text/plain": [
       "2.718281828459045"
      ]
     },
     "execution_count": 2,
     "metadata": {},
     "output_type": "execute_result"
    }
   ],
   "source": [
    "math.exp(1)"
   ]
  },
  {
   "cell_type": "code",
   "execution_count": 3,
   "metadata": {},
   "outputs": [
    {
     "data": {
      "text/plain": [
       "0"
      ]
     },
     "execution_count": 3,
     "metadata": {},
     "output_type": "execute_result"
    }
   ],
   "source": [
    "math.ceil(-0)"
   ]
  },
  {
   "cell_type": "code",
   "execution_count": 6,
   "metadata": {},
   "outputs": [
    {
     "data": {
      "text/plain": [
       "1.0"
      ]
     },
     "execution_count": 6,
     "metadata": {},
     "output_type": "execute_result"
    }
   ],
   "source": [
    "math.log(10,10)"
   ]
  },
  {
   "cell_type": "code",
   "execution_count": 4,
   "metadata": {},
   "outputs": [
    {
     "data": {
      "text/plain": [
       "1.0"
      ]
     },
     "execution_count": 4,
     "metadata": {},
     "output_type": "execute_result"
    }
   ],
   "source": [
    "math.log(math.exp(1))"
   ]
  },
  {
   "cell_type": "code",
   "execution_count": 7,
   "metadata": {},
   "outputs": [
    {
     "data": {
      "text/plain": [
       "1.4142135623730951"
      ]
     },
     "execution_count": 7,
     "metadata": {},
     "output_type": "execute_result"
    }
   ],
   "source": [
    "math.sqrt(2)"
   ]
  },
  {
   "cell_type": "code",
   "execution_count": 8,
   "metadata": {},
   "outputs": [
    {
     "data": {
      "text/plain": [
       "3.1622776601683795"
      ]
     },
     "execution_count": 8,
     "metadata": {},
     "output_type": "execute_result"
    }
   ],
   "source": [
    "math.sqrt(10)"
   ]
  },
  {
   "cell_type": "code",
   "execution_count": 11,
   "metadata": {},
   "outputs": [
    {
     "data": {
      "text/plain": [
       "1.5707963267948966"
      ]
     },
     "execution_count": 11,
     "metadata": {},
     "output_type": "execute_result"
    }
   ],
   "source": [
    "math.radians(90)"
   ]
  },
  {
   "cell_type": "code",
   "execution_count": 12,
   "metadata": {},
   "outputs": [
    {
     "data": {
      "text/plain": [
       "1.0"
      ]
     },
     "execution_count": 12,
     "metadata": {},
     "output_type": "execute_result"
    }
   ],
   "source": [
    "hudu = math.radians(90)\n",
    "math.sin(math.pi/2)"
   ]
  },
  {
   "cell_type": "code",
   "execution_count": 13,
   "metadata": {},
   "outputs": [
    {
     "data": {
      "text/plain": [
       "1.0"
      ]
     },
     "execution_count": 13,
     "metadata": {},
     "output_type": "execute_result"
    }
   ],
   "source": [
    "math.sin(math.pi/2)"
   ]
  },
  {
   "cell_type": "code",
   "execution_count": 14,
   "metadata": {},
   "outputs": [
    {
     "data": {
      "text/plain": [
       "3.141592653589793"
      ]
     },
     "execution_count": 14,
     "metadata": {},
     "output_type": "execute_result"
    }
   ],
   "source": [
    "math.pi"
   ]
  },
  {
   "cell_type": "code",
   "execution_count": 21,
   "metadata": {},
   "outputs": [
    {
     "data": {
      "text/plain": [
       "0.8939966636005579"
      ]
     },
     "execution_count": 21,
     "metadata": {},
     "output_type": "execute_result"
    }
   ],
   "source": [
    "jiaodu = math.degrees(math.pi/2)\n",
    "math.sin(jiaodu)"
   ]
  },
  {
   "cell_type": "markdown",
   "metadata": {},
   "source": [
    "## Python中的math模块提供了许多数学函数\n",
    "<img src=\"../Photo/16.png\"></img>\n",
    "<img src=\"../Photo/17.png\"></img>\n"
   ]
  },
  {
   "cell_type": "markdown",
   "metadata": {},
   "source": [
    "## 两个数学常量PI和e，可以通过使用math.pi 和math.e调用"
   ]
  },
  {
   "cell_type": "markdown",
   "metadata": {},
   "source": [
    "## EP:\n",
    "- 通过math库，写一个程序，使得用户输入三个顶点(x,y)返回三个角度\n",
    "- 注意：Python计算角度为弧度制，需要将其转换为角度\n",
    "<img src=\"../Photo/18.png\">"
   ]
  },
  {
   "cell_type": "code",
   "execution_count": 26,
   "metadata": {},
   "outputs": [
    {
     "name": "stdout",
     "output_type": "stream",
     "text": [
      "44.999999999999986\n",
      "44.999999999999986\n",
      "90.00000000000001\n"
     ]
    }
   ],
   "source": [
    "a = 1\n",
    "b = 1\n",
    "c = math.sqrt(2)\n",
    "part_1 = -2 * b * c\n",
    "part_2 = -2 * a * c\n",
    "part_3 = -2 * a * b\n",
    "A = math.acos((math.pow(a,2)-math.pow(b,2)-math.pow(c,2))/part_1)\n",
    "B = math.acos((math.pow(b,2)-math.pow(a,2)-math.pow(c,2))/part_2)\n",
    "C = math.acos((math.pow(c,2)-math.pow(b,2)-math.pow(a,2))/part_3)\n",
    "print(math.degrees(A))\n",
    "print(math.degrees(B))\n",
    "print(math.degrees(C))"
   ]
  },
  {
   "cell_type": "code",
   "execution_count": null,
   "metadata": {},
   "outputs": [],
   "source": [
    "X1,Y1=eval(input(X1,Y1))\n",
    "X2,Y2=eval(input(X2,Y2))\n",
    "X3,Y3=eval(input(X3,Y3)) \n",
    "\n",
    "\n",
    "A = math.acos((a*a-b*b-c*c)/(-2*b*b))\n",
    "B = math.acos((b*b-a*a-c*c)/(-2*a*c))\n",
    "C = math.acos((c*c-b*b-a*a)/(-2*a*b))"
   ]
  },
  {
   "cell_type": "code",
   "execution_count": 4,
   "metadata": {},
   "outputs": [
    {
     "name": "stdout",
     "output_type": "stream",
     "text": [
      "x1,y11,1\n",
      "x2,y22,5\n",
      "x3,y38,4\n",
      "52.76516601842532\n",
      "94.57392125990089\n",
      "32.66091272167382\n"
     ]
    }
   ],
   "source": [
    "import math\n",
    "x1,y1=eval(input('x1,y1'))\n",
    "x2,y2=eval(input('x2,y2'))\n",
    "x3,y3=eval(input('x3,y3'))\n",
    "a=math.sqrt(math.pow(x2-x3,2)+math.pow(y2-y3,2))\n",
    "b=math.sqrt(math.pow(x1-x3,2)+math.pow(y1-y3,2))\n",
    "c=math.sqrt(math.pow(x2-x1,2)+math.pow(y2-y1,2))\n",
    "part_1=-2*b*c\n",
    "part_2=-2*a*c\n",
    "part_3=-2*b*a\n",
    "A=math.acos((math.pow(a,2)-math.pow(b,2)-math.pow(c,2))/part_1)\n",
    "B=math.acos((math.pow(b,2)-math.pow(a,2)-math.pow(c,2))/part_2)\n",
    "C=math.acos((math.pow(c,2)-math.pow(b,2)-math.pow(a,2))/part_3)\n",
    "print(math.degrees(A))\n",
    "print(math.degrees(B))\n",
    "print(math.degrees(C))"
   ]
  },
  {
   "cell_type": "code",
   "execution_count": 9,
   "metadata": {},
   "outputs": [
    {
     "name": "stdout",
     "output_type": "stream",
     "text": [
      "7 5 5\n",
      "中奖\n"
     ]
    }
   ],
   "source": [
    "import random \n",
    "a = random.randint(0,10)\n",
    "b = random.randint(0,10)\n",
    "c = random.randint(0,10)\n",
    "print(a,b,c)\n",
    "if a+b>c and a+c>b and b+c>a :\n",
    "    print('中奖')\n",
    "else:\n",
    "    print('不中奖')"
   ]
  },
  {
   "cell_type": "code",
   "execution_count": 10,
   "metadata": {},
   "outputs": [
    {
     "name": "stdout",
     "output_type": "stream",
     "text": [
      "0.8381268038025698 0.7300103135871823 0.5559289811119339\n",
      "中奖\n"
     ]
    }
   ],
   "source": [
    "import random\n",
    "a = random.random()\n",
    "b = random.random()\n",
    "c = random.random()\n",
    "print(a,b,c)\n",
    "if a+b>c and a+c>b and b+c>a :\n",
    "    print('中奖')\n",
    "else:\n",
    "    print('不中奖')"
   ]
  },
  {
   "cell_type": "code",
   "execution_count": null,
   "metadata": {},
   "outputs": [],
   "source": [
    "import random \n"
   ]
  },
  {
   "cell_type": "markdown",
   "metadata": {},
   "source": [
    "## 字符串和字符\n",
    "- 在Python中，字符串必须是在单引号或者双引号内，在多段换行的字符串中可以使用“”“\n",
    "- 在使用”“”时，给予其变量则变为字符串，否则当多行注释使用"
   ]
  },
  {
   "cell_type": "code",
   "execution_count": null,
   "metadata": {},
   "outputs": [],
   "source": []
  },
  {
   "cell_type": "markdown",
   "metadata": {},
   "source": [
    "## ASCII码与Unicode码\n",
    "- <img src=\"../Photo/19.png\"></img>\n",
    "- <img src=\"../Photo/20.png\"></img>\n",
    "- <img src=\"../Photo/21.png\"></img>"
   ]
  },
  {
   "cell_type": "markdown",
   "metadata": {},
   "source": [
    "## 函数ord、chr\n",
    "- ord 返回ASCII码值\n",
    "- chr 返回字符"
   ]
  },
  {
   "cell_type": "markdown",
   "metadata": {},
   "source": [
    "## EP:\n",
    "- 利用ord与chr进行简单邮箱加密"
   ]
  },
  {
   "cell_type": "code",
   "execution_count": 15,
   "metadata": {},
   "outputs": [
    {
     "data": {
      "text/plain": [
       "52"
      ]
     },
     "execution_count": 15,
     "metadata": {},
     "output_type": "execute_result"
    }
   ],
   "source": [
    "ord('4')\n"
   ]
  },
  {
   "cell_type": "code",
   "execution_count": 2,
   "metadata": {},
   "outputs": [
    {
     "ename": "TypeError",
     "evalue": "ord() expected string of length 1, but int found",
     "output_type": "error",
     "traceback": [
      "\u001b[1;31m---------------------------------------------------------------------------\u001b[0m",
      "\u001b[1;31mTypeError\u001b[0m                                 Traceback (most recent call last)",
      "\u001b[1;32m<ipython-input-2-94b51c78794f>\u001b[0m in \u001b[0;36m<module>\u001b[1;34m()\u001b[0m\n\u001b[1;32m----> 1\u001b[1;33m \u001b[0mA\u001b[0m\u001b[1;33m=\u001b[0m\u001b[0mchr\u001b[0m\u001b[1;33m(\u001b[0m\u001b[0mord\u001b[0m\u001b[1;33m(\u001b[0m\u001b[1;33m-\u001b[0m\u001b[1;36m9\u001b[0m\u001b[1;33m)\u001b[0m\u001b[1;33m)\u001b[0m\u001b[1;33m\u001b[0m\u001b[0m\n\u001b[0m\u001b[0;32m      2\u001b[0m \u001b[0mA\u001b[0m\u001b[1;33m=\u001b[0m\u001b[0mchr\u001b[0m\u001b[1;33m(\u001b[0m\u001b[0mord\u001b[0m\u001b[1;33m(\u001b[0m\u001b[1;33m-\u001b[0m\u001b[1;36m9\u001b[0m\u001b[1;33m)\u001b[0m\u001b[1;33m)\u001b[0m\u001b[1;33m\u001b[0m\u001b[0m\n\u001b[0;32m      3\u001b[0m \u001b[0mA\u001b[0m\u001b[1;33m=\u001b[0m\u001b[0mchr\u001b[0m\u001b[1;33m(\u001b[0m\u001b[0mord\u001b[0m\u001b[1;33m(\u001b[0m\u001b[1;33m-\u001b[0m\u001b[1;36m9\u001b[0m\u001b[1;33m)\u001b[0m\u001b[1;33m)\u001b[0m\u001b[1;33m\u001b[0m\u001b[0m\n\u001b[0;32m      4\u001b[0m \u001b[0mA\u001b[0m\u001b[1;33m=\u001b[0m\u001b[0mchr\u001b[0m\u001b[1;33m(\u001b[0m\u001b[0mord\u001b[0m\u001b[1;33m(\u001b[0m\u001b[1;33m-\u001b[0m\u001b[1;36m9\u001b[0m\u001b[1;33m)\u001b[0m\u001b[1;33m)\u001b[0m\u001b[1;33m\u001b[0m\u001b[0m\n\u001b[0;32m      5\u001b[0m \u001b[0mA\u001b[0m\u001b[1;33m=\u001b[0m\u001b[0mchr\u001b[0m\u001b[1;33m(\u001b[0m\u001b[0mord\u001b[0m\u001b[1;33m(\u001b[0m\u001b[1;33m-\u001b[0m\u001b[1;36m9\u001b[0m\u001b[1;33m)\u001b[0m\u001b[1;33m)\u001b[0m\u001b[1;33m\u001b[0m\u001b[0m\n",
      "\u001b[1;31mTypeError\u001b[0m: ord() expected string of length 1, but int found"
     ]
    }
   ],
   "source": [
    "A=chr(ord(-9))\n",
    "A=chr(ord(-9))\n",
    "A=chr(ord(-9))\n",
    "A=chr(ord(-9))\n",
    "A=chr(ord(-9))\n",
    "A=chr(ord(-9))\n",
    "A=chr(ord(-9))\n",
    "res=A+A+A+A+A+A+A\n",
    "print(res)"
   ]
  },
  {
   "cell_type": "code",
   "execution_count": 1,
   "metadata": {},
   "outputs": [
    {
     "name": "stdout",
     "output_type": "stream",
     "text": [
      " afb\\i\u0017`j\u0017X\u0017YX[\u0017dXe\n"
     ]
    }
   ],
   "source": [
    "a = (\"joker is a bad man\")\n",
    "c = \" \"\n",
    "for i in a:\n",
    "    b = chr(ord(i)-9)\n",
    "    c += b\n",
    "print(c)"
   ]
  },
  {
   "cell_type": "code",
   "execution_count": 28,
   "metadata": {},
   "outputs": [
    {
     "name": "stdout",
     "output_type": "stream",
     "text": [
      "输入加密文本5428\n",
      " ,+)/\n"
     ]
    }
   ],
   "source": [
    "a = input(\"输入加密文本\")\n",
    "c = \" \"\n",
    "for i in a:\n",
    "    b = chr(ord(i)-9)\n",
    "    c += b\n",
    "print(c)"
   ]
  },
  {
   "cell_type": "markdown",
   "metadata": {},
   "source": [
    "## 转义序列 \\\n",
    "- a = \"He said,\"Johon's program is easy to read\"\n",
    "- 转掉它原来的意思\n",
    "- 一般情况下只有当语句与默认方法相撞的时候，就需要转义"
   ]
  },
  {
   "cell_type": "markdown",
   "metadata": {},
   "source": [
    "1.三引号和单/双引号的区别是:\n",
    "- 三引号内可以使用换行,单/双引号\n",
    "- 三引号如果不加变量的话,代表是注释(可以换行注释)\n",
    "\n",
    "2.单/双引号内是不是可以加入单/双引号的,但是可以加入双/单.\n",
    "\n",
    "3.如果非要头铁,可以使用\"\\\\\"(转义字符),表示转掉它原来的意思."
   ]
  },
  {
   "cell_type": "code",
   "execution_count": null,
   "metadata": {},
   "outputs": [],
   "source": [
    "\"joker's\"\n",
    "\"joker\\\"s\""
   ]
  },
  {
   "cell_type": "markdown",
   "metadata": {},
   "source": [
    "## 高级print\n",
    "- 参数 end： 以什么方式结束打印\n",
    "- 默认换行打印"
   ]
  },
  {
   "cell_type": "code",
   "execution_count": 19,
   "metadata": {},
   "outputs": [
    {
     "name": "stdout",
     "output_type": "stream",
     "text": [
      "joker\n",
      "ok\n"
     ]
    }
   ],
   "source": [
    "print(\"joker\")\n",
    "print(\"ok\")"
   ]
  },
  {
   "cell_type": "code",
   "execution_count": 21,
   "metadata": {},
   "outputs": [
    {
     "name": "stdout",
     "output_type": "stream",
     "text": [
      "joker*******ok\n"
     ]
    }
   ],
   "source": [
    "print(\"joker\",end=\"*******\")\n",
    "print(\"ok\")"
   ]
  },
  {
   "cell_type": "code",
   "execution_count": 23,
   "metadata": {},
   "outputs": [
    {
     "name": "stdout",
     "output_type": "stream",
     "text": [
      "a!!!!!!b\n"
     ]
    }
   ],
   "source": [
    "print('a','b',sep=\"!!!!!!\")"
   ]
  },
  {
   "cell_type": "code",
   "execution_count": 22,
   "metadata": {},
   "outputs": [],
   "source": [
    "import sys"
   ]
  },
  {
   "cell_type": "code",
   "execution_count": 24,
   "metadata": {},
   "outputs": [
    {
     "name": "stdout",
     "output_type": "stream",
     "text": [
      "Joker"
     ]
    }
   ],
   "source": [
    "sys.stdout.write('Joker')"
   ]
  },
  {
   "cell_type": "code",
   "execution_count": 32,
   "metadata": {},
   "outputs": [
    {
     "name": "stdout",
     "output_type": "stream",
     "text": [
      "0\n",
      "1\n",
      "2\n",
      "3\n",
      "4\n",
      "5\n",
      "6\n",
      "7\n",
      "8\n",
      "9\n"
     ]
    }
   ],
   "source": [
    "for i in range(10):\n",
    "    print(i)"
   ]
  },
  {
   "cell_type": "code",
   "execution_count": 34,
   "metadata": {},
   "outputs": [],
   "source": [
    "import time"
   ]
  },
  {
   "cell_type": "code",
   "execution_count": 50,
   "metadata": {},
   "outputs": [
    {
     "name": "stdout",
     "output_type": "stream",
     "text": [
      "999/1000\r"
     ]
    }
   ],
   "source": [
    "for i in range(1000):\n",
    "    print('%s/%s\\r'%(i,1000),flush=True,end=\"\")"
   ]
  },
  {
   "cell_type": "code",
   "execution_count": 36,
   "metadata": {},
   "outputs": [
    {
     "data": {
      "text/plain": [
       "'joker is a 1 good man'"
      ]
     },
     "execution_count": 36,
     "metadata": {},
     "output_type": "execute_result"
    }
   ],
   "source": [
    "'%s is a %d good man'%('joker',1)"
   ]
  },
  {
   "cell_type": "code",
   "execution_count": null,
   "metadata": {},
   "outputs": [
    {
     "name": "stdout",
     "output_type": "stream",
     "text": [
      "[98/%]\r"
     ]
    }
   ],
   "source": [
    "import time\n",
    "for i in range(100):\n",
    "    print('[%s/%%]\\r'%i,flush=True,end=\"\")\n",
    "    time.sleep(1)"
   ]
  },
  {
   "cell_type": "code",
   "execution_count": null,
   "metadata": {},
   "outputs": [
    {
     "name": "stdout",
     "output_type": "stream",
     "text": [
      "[1/%]#[2/%]##[3/%]###[4/%]####[5/%][6/%]#[7/%]##[8/%]###[9/%]####[10/%][11/%]#[12/%]##[13/%]###[14/%]####[15/%][16/%]#[17/%]##[18/%]###[19/%]####[20/%]"
     ]
    }
   ],
   "source": [
    "import time\n",
    "for i in range(20):\n",
    "    print('[%s/%%]%s'%(i+1,(i+1)%5 * '#'),flush=True,end=\"\")\n",
    "    time.sleep(0.5)"
   ]
  },
  {
   "cell_type": "code",
   "execution_count": 3,
   "metadata": {},
   "outputs": [
    {
     "name": "stdout",
     "output_type": "stream",
     "text": [
      "[100/%]####################\r"
     ]
    }
   ],
   "source": [
    "import time\n",
    "for i in range(100):\n",
    "    print('[%s/%%]%s\\r'%(i+1,(i+1)//5 * '#'),flush=True,end=\"\")\n",
    "    time.sleep(0.5)"
   ]
  },
  {
   "cell_type": "code",
   "execution_count": 2,
   "metadata": {},
   "outputs": [
    {
     "data": {
      "text/plain": [
       "'####'"
      ]
     },
     "execution_count": 2,
     "metadata": {},
     "output_type": "execute_result"
    }
   ],
   "source": [
    "4 * '#'"
   ]
  },
  {
   "cell_type": "markdown",
   "metadata": {},
   "source": []
  },
  {
   "cell_type": "markdown",
   "metadata": {},
   "source": [
    "## 函数str\n",
    "- 将类型强制转换成字符串类型\n",
    "- 其他一些以后会学到(list,set,tuple...)"
   ]
  },
  {
   "cell_type": "code",
   "execution_count": 4,
   "metadata": {},
   "outputs": [
    {
     "data": {
      "text/plain": [
       "10.0"
      ]
     },
     "execution_count": 4,
     "metadata": {},
     "output_type": "execute_result"
    }
   ],
   "source": [
    "float(10)"
   ]
  },
  {
   "cell_type": "code",
   "execution_count": null,
   "metadata": {},
   "outputs": [],
   "source": [
    "str()"
   ]
  },
  {
   "cell_type": "markdown",
   "metadata": {},
   "source": [
    "## 字符串连接操作\n",
    "- 直接使用 “+” \n",
    "- join() 函数 "
   ]
  },
  {
   "cell_type": "code",
   "execution_count": 7,
   "metadata": {},
   "outputs": [
    {
     "ename": "ModuleNotFoundError",
     "evalue": "No module named 'join'",
     "output_type": "error",
     "traceback": [
      "\u001b[1;31m---------------------------------------------------------------------------\u001b[0m",
      "\u001b[1;31mModuleNotFoundError\u001b[0m                       Traceback (most recent call last)",
      "\u001b[1;32m<ipython-input-7-4a50853124af>\u001b[0m in \u001b[0;36m<module>\u001b[1;34m()\u001b[0m\n\u001b[1;32m----> 1\u001b[1;33m \u001b[1;32mimport\u001b[0m \u001b[0mjoin\u001b[0m\u001b[1;33m\u001b[0m\u001b[0m\n\u001b[0m",
      "\u001b[1;31mModuleNotFoundError\u001b[0m: No module named 'join'"
     ]
    }
   ],
   "source": [
    "import join"
   ]
  },
  {
   "cell_type": "code",
   "execution_count": 11,
   "metadata": {},
   "outputs": [
    {
     "data": {
      "text/plain": [
       "'b!b'"
      ]
     },
     "execution_count": 11,
     "metadata": {},
     "output_type": "execute_result"
    }
   ],
   "source": [
    "\"!\".join(('b','b'))"
   ]
  },
  {
   "cell_type": "markdown",
   "metadata": {},
   "source": [
    "## EP：\n",
    "- 将 “Welcome” “to” \"Python\" 拼接\n",
    "- 将int型 100 与 “joker is a bad man” 拼接\n",
    "- 从控制台读取字符串\n",
    "> 输入一个名字返回夸奖此人"
   ]
  },
  {
   "cell_type": "code",
   "execution_count": 9,
   "metadata": {},
   "outputs": [
    {
     "name": "stdout",
     "output_type": "stream",
     "text": [
      " Welcome  to  Python \n"
     ]
    }
   ],
   "source": [
    "print(\" Welcome \" + \" to \" + \" Python \") "
   ]
  },
  {
   "cell_type": "code",
   "execution_count": 24,
   "metadata": {},
   "outputs": [
    {
     "name": "stdout",
     "output_type": "stream",
     "text": [
      "http://op.hanhande.net/shtm1/op_wz/list_2602_1.shtml\n",
      "http://op.hanhande.net/shtm1/op_wz/list_2602_2.shtml\n",
      "http://op.hanhande.net/shtm1/op_wz/list_2602_3.shtml\n",
      "http://op.hanhande.net/shtm1/op_wz/list_2602_4.shtml\n",
      "http://op.hanhande.net/shtm1/op_wz/list_2602_5.shtml\n",
      "http://op.hanhande.net/shtm1/op_wz/list_2602_6.shtml\n",
      "http://op.hanhande.net/shtm1/op_wz/list_2602_7.shtml\n",
      "http://op.hanhande.net/shtm1/op_wz/list_2602_8.shtml\n",
      "http://op.hanhande.net/shtm1/op_wz/list_2602_9.shtml\n",
      "http://op.hanhande.net/shtm1/op_wz/list_2602_10.shtml\n",
      "http://op.hanhande.net/shtm1/op_wz/list_2602_11.shtml\n",
      "http://op.hanhande.net/shtm1/op_wz/list_2602_12.shtml\n",
      "http://op.hanhande.net/shtm1/op_wz/list_2602_13.shtml\n",
      "http://op.hanhande.net/shtm1/op_wz/list_2602_14.shtml\n",
      "http://op.hanhande.net/shtm1/op_wz/list_2602_15.shtml\n",
      "http://op.hanhande.net/shtm1/op_wz/list_2602_16.shtml\n",
      "http://op.hanhande.net/shtm1/op_wz/list_2602_17.shtml\n",
      "http://op.hanhande.net/shtm1/op_wz/list_2602_18.shtml\n",
      "http://op.hanhande.net/shtm1/op_wz/list_2602_19.shtml\n",
      "http://op.hanhande.net/shtm1/op_wz/list_2602_20.shtml\n",
      "http://op.hanhande.net/shtm1/op_wz/list_2602_21.shtml\n",
      "http://op.hanhande.net/shtm1/op_wz/list_2602_22.shtml\n",
      "http://op.hanhande.net/shtm1/op_wz/list_2602_23.shtml\n",
      "http://op.hanhande.net/shtm1/op_wz/list_2602_24.shtml\n",
      "http://op.hanhande.net/shtm1/op_wz/list_2602_25.shtml\n",
      "http://op.hanhande.net/shtm1/op_wz/list_2602_26.shtml\n",
      "http://op.hanhande.net/shtm1/op_wz/list_2602_27.shtml\n"
     ]
    }
   ],
   "source": [
    "a='http://op.hanhande.net/shtm1/op_wz/list_2602_'\n",
    "for i in range(1,28):\n",
    "    url = a + str(i) + '.shtml'\n",
    "    print(url)"
   ]
  },
  {
   "cell_type": "code",
   "execution_count": 26,
   "metadata": {},
   "outputs": [
    {
     "name": "stdout",
     "output_type": "stream",
     "text": [
      "http://op.hanhande.net/shtm1/op_wz/list_2602_1.shtml\n",
      "http://op.hanhande.net/shtm1/op_wz/list_2602_2.shtml\n",
      "http://op.hanhande.net/shtm1/op_wz/list_2602_3.shtml\n",
      "http://op.hanhande.net/shtm1/op_wz/list_2602_4.shtml\n",
      "http://op.hanhande.net/shtm1/op_wz/list_2602_5.shtml\n",
      "http://op.hanhande.net/shtm1/op_wz/list_2602_6.shtml\n",
      "http://op.hanhande.net/shtm1/op_wz/list_2602_7.shtml\n",
      "http://op.hanhande.net/shtm1/op_wz/list_2602_8.shtml\n",
      "http://op.hanhande.net/shtm1/op_wz/list_2602_9.shtml\n",
      "http://op.hanhande.net/shtm1/op_wz/list_2602_10.shtml\n",
      "http://op.hanhande.net/shtm1/op_wz/list_2602_11.shtml\n",
      "http://op.hanhande.net/shtm1/op_wz/list_2602_12.shtml\n",
      "http://op.hanhande.net/shtm1/op_wz/list_2602_13.shtml\n",
      "http://op.hanhande.net/shtm1/op_wz/list_2602_14.shtml\n",
      "http://op.hanhande.net/shtm1/op_wz/list_2602_15.shtml\n",
      "http://op.hanhande.net/shtm1/op_wz/list_2602_16.shtml\n",
      "http://op.hanhande.net/shtm1/op_wz/list_2602_17.shtml\n",
      "http://op.hanhande.net/shtm1/op_wz/list_2602_18.shtml\n",
      "http://op.hanhande.net/shtm1/op_wz/list_2602_19.shtml\n",
      "http://op.hanhande.net/shtm1/op_wz/list_2602_20.shtml\n",
      "http://op.hanhande.net/shtm1/op_wz/list_2602_21.shtml\n",
      "http://op.hanhande.net/shtm1/op_wz/list_2602_22.shtml\n",
      "http://op.hanhande.net/shtm1/op_wz/list_2602_23.shtml\n",
      "http://op.hanhande.net/shtm1/op_wz/list_2602_24.shtml\n",
      "http://op.hanhande.net/shtm1/op_wz/list_2602_25.shtml\n",
      "http://op.hanhande.net/shtm1/op_wz/list_2602_26.shtml\n",
      "http://op.hanhande.net/shtm1/op_wz/list_2602_27.shtml\n"
     ]
    }
   ],
   "source": [
    "a='http://op.hanhande.net/shtm1/op_wz/list_2602_'\n",
    "for i in range(1,28):\n",
    "    url = \"\".join((a,str(i)))\n",
    "    URL = \"\".join((url,'.shtml'))\n",
    "    print(URL)"
   ]
  },
  {
   "cell_type": "markdown",
   "metadata": {},
   "source": [
    "## 实例研究：最小数量硬币\n",
    "- 开发一个程序，让用户输入总金额，这是一个用美元和美分表示的浮点值，返回一个由美元、两角五分的硬币、一角的硬币、五分硬币、以及美分个数\n",
    "<img src=\"../Photo/22.png\"></img>"
   ]
  },
  {
   "cell_type": "markdown",
   "metadata": {},
   "source": [
    "- Python弱项，对于浮点型的处理并不是很好，但是处理数据的时候使用的是Numpy类型\n",
    "<img src=\"../Photo/23.png\"></img>"
   ]
  },
  {
   "cell_type": "markdown",
   "metadata": {},
   "source": [
    "## id与type\n",
    "- id 查看内存地址，在判断语句中将会使用\n",
    "- type 查看元素类型"
   ]
  },
  {
   "cell_type": "code",
   "execution_count": 15,
   "metadata": {},
   "outputs": [],
   "source": [
    "import math"
   ]
  },
  {
   "cell_type": "markdown",
   "metadata": {},
   "source": [
    "## 其他格式化语句见书"
   ]
  },
  {
   "cell_type": "markdown",
   "metadata": {},
   "source": [
    "# Homework\n",
    "- 1\n",
    "<img src=\"../Photo/24.png\"><img>\n",
    "<img src=\"../Photo/25.png\"><img>"
   ]
  },
  {
   "cell_type": "code",
   "execution_count": 29,
   "metadata": {},
   "outputs": [
    {
     "name": "stdout",
     "output_type": "stream",
     "text": [
      "请输入顶点到中心的距离：5.5\n",
      "71.923649044821\n"
     ]
    }
   ],
   "source": [
    "import math\n",
    "r = eval(input(\"请输入顶点到中心的距离：\"))\n",
    "s = 2*r*math.sin(math.pi/5)\n",
    "area = 5*s*s/(4*math.tan(math.pi/5))\n",
    "print(area)"
   ]
  },
  {
   "cell_type": "markdown",
   "metadata": {},
   "source": [
    "- 2\n",
    "<img src=\"../Photo/26.png\"><img>"
   ]
  },
  {
   "cell_type": "code",
   "execution_count": 9,
   "metadata": {
    "scrolled": true
   },
   "outputs": [
    {
     "name": "stdout",
     "output_type": "stream",
     "text": [
      "x1,y1:39.55,-116.25\n",
      "x2,y2:41.5,87.37\n",
      "10691.79183231593\n"
     ]
    }
   ],
   "source": [
    "import math\n",
    "x1,y1 = eval(input('x1,y1:'))\n",
    "x2,y2 = eval(input('x2,y2:'))\n",
    "radius = 6371.01\n",
    "d=radius*math.acos(math.sin(math.radians(x1))*math.sin(math.radians(x2))+math.cos(math.radians(x1))*math.cos(math.radians(x2))*math.cos(math.radians(y1-y2)))\n",
    "print(d)\n"
   ]
  },
  {
   "cell_type": "code",
   "execution_count": 13,
   "metadata": {},
   "outputs": [],
   "source": [
    "import math"
   ]
  },
  {
   "cell_type": "markdown",
   "metadata": {},
   "source": [
    "- 3\n",
    "<img src=\"../Photo/27.png\"><img>"
   ]
  },
  {
   "cell_type": "code",
   "execution_count": 26,
   "metadata": {},
   "outputs": [
    {
     "name": "stdout",
     "output_type": "stream",
     "text": [
      "请输入五角形边长:5.5\n",
      "52.044441367816255\n"
     ]
    }
   ],
   "source": [
    "import math\n",
    "s = eval(input(\"请输入五角形边长:\"))\n",
    "area = (5*s*s)/(4*math.tan(math.pi/5))\n",
    "print(area)"
   ]
  },
  {
   "cell_type": "markdown",
   "metadata": {},
   "source": [
    "- 4\n",
    "<img src=\"../Photo/28.png\"><img>"
   ]
  },
  {
   "cell_type": "code",
   "execution_count": 22,
   "metadata": {},
   "outputs": [
    {
     "name": "stdout",
     "output_type": "stream",
     "text": [
      "请输入边数:5\n",
      "请输入边长:6.5\n",
      "72.69017017488386\n"
     ]
    }
   ],
   "source": [
    "n = eval(input(\"请输入边数:\"))\n",
    "s = eval(input(\"请输入边长:\"))\n",
    "area = (n*s*s)/(4*math.tan(math.pi/n))\n",
    "print(area)"
   ]
  },
  {
   "cell_type": "markdown",
   "metadata": {},
   "source": [
    "- 5\n",
    "<img src=\"../Photo/29.png\"><img>\n",
    "<img src=\"../Photo/30.png\"><img>"
   ]
  },
  {
   "cell_type": "code",
   "execution_count": 15,
   "metadata": {},
   "outputs": [
    {
     "name": "stdout",
     "output_type": "stream",
     "text": [
      "输入一个0-127之间的整数·:69\n",
      "E\n"
     ]
    }
   ],
   "source": [
    "a = eval(input(\"输入一个0-127之间的整数·:\"))\n",
    "b = chr(a)\n",
    "print(b)"
   ]
  },
  {
   "cell_type": "markdown",
   "metadata": {},
   "source": [
    "- 6\n",
    "<img src=\"../Photo/31.png\"><img>"
   ]
  },
  {
   "cell_type": "code",
   "execution_count": 4,
   "metadata": {},
   "outputs": [
    {
     "name": "stdout",
     "output_type": "stream",
     "text": [
      "请输入姓名:Smith\n",
      "请输入工作时间:10\n",
      "请输入报酬:9.75\n",
      "请输入联邦预扣税率:0.20\n",
      "请输入州预扣税率:0.09\n",
      "姓名: Smith\n",
      "工作时间: 10\n",
      "报酬:$ 9.75\n",
      "联邦预扣税率: 0.2\n",
      "州预扣税率: 0.09\n"
     ]
    }
   ],
   "source": [
    "a = input(\"请输入姓名:\")\n",
    "b = eval(input(\"请输入工作时间:\"))\n",
    "c = eval(input(\"请输入报酬:\"))\n",
    "d = eval(input(\"请输入联邦预扣税率:\"))\n",
    "e = eval(input(\"请输入州预扣税率:\"))\n",
    "print(\"姓名:\",a)\n",
    "print(\"工作时间:\",b)\n",
    "print(\"报酬:$\",c)\n",
    "print(\"联邦预扣税率:\",d)\n",
    "print(\"州预扣税率:\",e)\n"
   ]
  },
  {
   "cell_type": "markdown",
   "metadata": {},
   "source": [
    "- 7\n",
    "<img src=\"../Photo/32.png\"><img>"
   ]
  },
  {
   "cell_type": "code",
   "execution_count": 2,
   "metadata": {},
   "outputs": [
    {
     "name": "stdout",
     "output_type": "stream",
     "text": [
      "请输入一个值：5826\n",
      "6285\n"
     ]
    }
   ],
   "source": [
    "a=int(input(\"请输入一个值：\"))\n",
    "\n",
    "i=0\n",
    "\n",
    "c=0\n",
    "\n",
    "while a>0:\n",
    "\n",
    "    b=a%10\n",
    "\n",
    "    a=int(a/10)\n",
    "\n",
    "    c=c*10+b\n",
    "\n",
    "    i=i+1\n",
    "\n",
    "print(c)"
   ]
  },
  {
   "cell_type": "markdown",
   "metadata": {},
   "source": [
    "- 8 进阶：\n",
    "> 加密一串文本，并将解密后的文件写入本地保存"
   ]
  },
  {
   "cell_type": "code",
   "execution_count": 10,
   "metadata": {},
   "outputs": [
    {
     "name": "stdout",
     "output_type": "stream",
     "text": [
      "输入加密文本19865\n",
      " (0/-,\n"
     ]
    }
   ],
   "source": [
    "a = input(\"输入加密文本\")\n",
    "c = \" \"\n",
    "for i in a:\n",
    "    b = chr(ord(i)-9)\n",
    "    c += b\n",
    "print(c)\n"
   ]
  },
  {
   "cell_type": "code",
   "execution_count": null,
   "metadata": {},
   "outputs": [],
   "source": []
  }
 ],
 "metadata": {
  "kernelspec": {
   "display_name": "Python 3",
   "language": "python",
   "name": "python3"
  },
  "language_info": {
   "codemirror_mode": {
    "name": "ipython",
    "version": 3
   },
   "file_extension": ".py",
   "mimetype": "text/x-python",
   "name": "python",
   "nbconvert_exporter": "python",
   "pygments_lexer": "ipython3",
   "version": "3.6.4"
  }
 },
 "nbformat": 4,
 "nbformat_minor": 2
}
