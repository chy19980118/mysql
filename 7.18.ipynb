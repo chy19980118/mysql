{
 "cells": [
  {
   "cell_type": "markdown",
   "metadata": {},
   "source": [
    "# 选择\n",
    "## 布尔类型、数值和表达式\n",
    "![](../Photo/33.png)\n",
    "- 注意：比较运算符的相等是两个等号，一个等到代表赋值\n",
    "- 在Python中可以用整型0来代表False，其他数字来代表True\n",
    "- 后面还会讲到 is 在判断语句中的用发"
   ]
  },
  {
   "cell_type": "markdown",
   "metadata": {},
   "source": [
    "## 字符串的比较使用ASCII值"
   ]
  },
  {
   "cell_type": "markdown",
   "metadata": {},
   "source": [
    "## Markdown \n",
    "- https://github.com/younghz/Markdown"
   ]
  },
  {
   "cell_type": "markdown",
   "metadata": {},
   "source": [
    "## EP:\n",
    "- <img src=\"../Photo/34.png\"></img>\n",
    "- 输入一个数字，判断其实奇数还是偶数"
   ]
  },
  {
   "cell_type": "code",
   "execution_count": null,
   "metadata": {},
   "outputs": [],
   "source": []
  },
  {
   "cell_type": "markdown",
   "metadata": {},
   "source": [
    "## 产生随机数字\n",
    "- 函数random.randint(a,b) 可以用来产生一个a和b之间且包括a和b的随机整数"
   ]
  },
  {
   "cell_type": "code",
   "execution_count": 4,
   "metadata": {},
   "outputs": [],
   "source": [
    "import random"
   ]
  },
  {
   "cell_type": "code",
   "execution_count": 6,
   "metadata": {},
   "outputs": [
    {
     "data": {
      "text/plain": [
       "1"
      ]
     },
     "execution_count": 6,
     "metadata": {},
     "output_type": "execute_result"
    }
   ],
   "source": [
    "random.randint(0,1)"
   ]
  },
  {
   "cell_type": "markdown",
   "metadata": {},
   "source": [
    "产生一个随机数，你去输入，如果你输入的数大于随机数，那么就告诉你太大了，反之，太小了，\n",
    "然后你一直输入，知道它满意为止"
   ]
  },
  {
   "cell_type": "code",
   "execution_count": 11,
   "metadata": {},
   "outputs": [
    {
     "name": "stdout",
     "output_type": "stream",
     "text": [
      "请输入一个数：5\n",
      "0\n",
      "太大了\n"
     ]
    }
   ],
   "source": [
    "a = random.randint(0,10)\n",
    "b = eval(input(\"请输入一个数：\"))\n",
    "print(a)\n",
    "if b > a:\n",
    "    print(\"太大了\")\n",
    "else:\n",
    "    print(\"太小了\")"
   ]
  },
  {
   "cell_type": "markdown",
   "metadata": {},
   "source": [
    "##  其他random方法\n",
    "- random.random 返回0.0到1.0之间前闭后开区间的随机浮点\n",
    "- random.randrange(a,b) 前闭后开"
   ]
  },
  {
   "cell_type": "markdown",
   "metadata": {},
   "source": [
    "## EP：\n",
    "- 产生两个随机整数number1和number2，然后显示给用户，使用户输入数字的和，并判定其是否正确\n",
    "- 进阶:写一个随机序号点名程序"
   ]
  },
  {
   "cell_type": "markdown",
   "metadata": {},
   "source": [
    "## if语句\n",
    "- 如果条件正确就执行一个单向if语句，亦即当条件为真的时候才执行if内部的语句\n",
    "- Python有很多选择语句:\n",
    "> - 单向if \n",
    "  - 双向if-else\n",
    "  - 嵌套if\n",
    "  - 多向if-elif-else\n",
    "  \n",
    "- 注意：当语句含有子语句的时候，那么一定至少要有一个缩进，也就是说如果有儿子存在，那么一定要缩进\n",
    "- 切记不可tab键和space混用，单用tab 或者 space\n",
    "- 当你输出的结果是无论if是否为真时都需要显示时，语句应该与if对齐"
   ]
  },
  {
   "cell_type": "code",
   "execution_count": 1,
   "metadata": {},
   "outputs": [
    {
     "name": "stdout",
     "output_type": "stream",
     "text": [
      "年轻吗[y/n]y\n",
      "帅否[y/n]n\n",
      "考虑一下\n"
     ]
    }
   ],
   "source": [
    "age = input(\"年轻吗[y/n]\")\n",
    "if age == 'y':\n",
    "    handsome = input(\"帅否[y/n]\")\n",
    "    if handsome == 'y':\n",
    "        wife = input((\"有没有老婆[y/n]\"))\n",
    "        if wife == 'y':\n",
    "            print(\"回家的诱惑\")\n",
    "        else:\n",
    "            print(\"立马结婚\")\n",
    "    else:\n",
    "        print(\"考虑一下\")\n",
    "else:\n",
    "    print(\"拜拜\")\n",
    "        "
   ]
  },
  {
   "cell_type": "markdown",
   "metadata": {},
   "source": [
    "## EP：\n",
    "- 用户输入一个数字，判断其实奇数还是偶数\n",
    "- 进阶：可以查看下4.5实例研究猜生日"
   ]
  },
  {
   "cell_type": "markdown",
   "metadata": {},
   "source": [
    "## 双向if-else 语句\n",
    "- 如果条件为真，那么走if内部语句，否则走else内部语句"
   ]
  },
  {
   "cell_type": "markdown",
   "metadata": {},
   "source": [
    "## EP：\n",
    "- 产生两个随机整数number1和number2，然后显示给用户，使用户输入数字，并判定其是否正确,如果正确打印“you‘re correct”，否则打印正确错误"
   ]
  },
  {
   "cell_type": "markdown",
   "metadata": {},
   "source": [
    "## 嵌套if 和多向if-elif-else\n",
    "![](../Photo/35.png)"
   ]
  },
  {
   "cell_type": "markdown",
   "metadata": {},
   "source": [
    "## EP：\n",
    "- 提示用户输入一个年份，然后显示表示这一年的动物\n",
    "![](../Photo/36.png)\n",
    "- 计算身体质量指数的程序\n",
    "- BMI = 以千克为单位的体重除以以米为单位的身高的平方\n",
    "![](../Photo/37.png)"
   ]
  },
  {
   "cell_type": "code",
   "execution_count": 2,
   "metadata": {},
   "outputs": [
    {
     "name": "stdout",
     "output_type": "stream",
     "text": [
      "请输入一个年份:2001\n",
      "蛇\n"
     ]
    }
   ],
   "source": [
    "year = eval(input(\"请输入一个年份:\"))\n",
    "if year % 12 == 0:\n",
    "    print(\"猴\")\n",
    "elif year % 12 == 1:\n",
    "    print(\"鸡\")\n",
    "elif year % 12 == 2:\n",
    "    print(\"狗\")\n",
    "elif year % 12 == 3:\n",
    "    print(\"猪\")\n",
    "elif year % 12 == 4:\n",
    "    print(\"鼠\")\n",
    "elif year % 12 == 5:\n",
    "    print(\"牛\")\n",
    "elif year % 12 == 6:\n",
    "    print(\"虎\")\n",
    "elif year % 12 == 7:\n",
    "    print(\"兔\")\n",
    "elif year % 12 == 8:\n",
    "    print(\"龙\")\n",
    "elif year % 12 == 9:\n",
    "    print(\"蛇\")\n",
    "elif year % 12 == 10 :\n",
    "    print(\"马\")\n",
    "elif year % 12 == 11:#(else: )\n",
    "    print(\"羊\")   "
   ]
  },
  {
   "cell_type": "code",
   "execution_count": null,
   "metadata": {},
   "outputs": [],
   "source": [
    "weight = float(input(\"请输入体重：\"))\n",
    "height = float(input(\"请输入身高：\"))\n",
    "BIM = weight/(height*height)\n",
    "if BIM < 18.5:\n",
    "    print(\"超轻\")\n",
    "elif 18.5 <= BIM < 25.0:\n",
    "    print(\"标准\")\n",
    "elif 25.0 <= BIM < 30.0:\n",
    "    print(\"超重\")\n",
    "elif 30.0 <= BIM:\n",
    "    print(\"痴肥\")"
   ]
  },
  {
   "cell_type": "markdown",
   "metadata": {},
   "source": [
    "## 逻辑运算符\n",
    "![](../Photo/38.png)"
   ]
  },
  {
   "cell_type": "markdown",
   "metadata": {},
   "source": [
    "![](../Photo/39.png)\n",
    "![](../Photo/40.png)"
   ]
  },
  {
   "cell_type": "markdown",
   "metadata": {},
   "source": [
    "## EP：\n",
    "- 判定闰年：一个年份如果能被4整除但不能被100整除，或者能被400整除，那么这个年份就是闰年\n",
    "- 提示用户输入一个年份，并返回是否是闰年\n",
    "- 提示用户输入一个数字，判断其是否为水仙花数"
   ]
  },
  {
   "cell_type": "code",
   "execution_count": 28,
   "metadata": {},
   "outputs": [
    {
     "name": "stdout",
     "output_type": "stream",
     "text": [
      "请输入年份：2008\n",
      "闰年\n"
     ]
    }
   ],
   "source": [
    "year = float(input(\"请输入年份：\"))\n",
    "if (year % 4 == 0 and year % 100!=0 ) or (year % 400 == 0):\n",
    "    print(\"闰年\")\n",
    "else:\n",
    "    print(\"平年\")"
   ]
  },
  {
   "cell_type": "code",
   "execution_count": 32,
   "metadata": {},
   "outputs": [
    {
     "name": "stdout",
     "output_type": "stream",
     "text": [
      ">>153\n",
      "水仙花\n"
     ]
    }
   ],
   "source": [
    "number = eval(input(\">>\"))\n",
    "bai = number // 100\n",
    "shi = number // 10% 10\n",
    "ge = number % 10\n",
    "if bai**3 + shi ** 3 + ge ** 3 == number:\n",
    "    print(\"水仙花\")\n",
    "else:\n",
    "    print(\"不是水仙花\")"
   ]
  },
  {
   "cell_type": "markdown",
   "metadata": {},
   "source": [
    "## 实例研究：彩票\n",
    "![](../Photo/41.png)"
   ]
  },
  {
   "cell_type": "code",
   "execution_count": null,
   "metadata": {},
   "outputs": [],
   "source": []
  },
  {
   "cell_type": "markdown",
   "metadata": {},
   "source": [
    "# Homework\n",
    "- 1\n",
    "![](../Photo/42.png)"
   ]
  },
  {
   "cell_type": "code",
   "execution_count": 53,
   "metadata": {},
   "outputs": [
    {
     "name": "stdout",
     "output_type": "stream",
     "text": [
      "请输入a,b,c:1,2,3\n",
      "没有实根\n"
     ]
    }
   ],
   "source": [
    "import math\n",
    "a,b,c = eval(input(\"请输入a,b,c:\"))\n",
    "n = (b * b - 4 * a * c)\n",
    "if n > 0:\n",
    "    m = math.sqrt(n)\n",
    "    r1 = -b + m / 2 * a\n",
    "    r2 = -b - m / 2 * a\n",
    "    print(r1,r2)\n",
    "elif n == 0:\n",
    "    print(r1)\n",
    "elif n < 0:\n",
    "    print(\"没有实根\")"
   ]
  },
  {
   "cell_type": "markdown",
   "metadata": {},
   "source": [
    "- 2\n",
    "![](../Photo/43.png)"
   ]
  },
  {
   "cell_type": "code",
   "execution_count": 3,
   "metadata": {},
   "outputs": [
    {
     "name": "stdout",
     "output_type": "stream",
     "text": [
      "78\n",
      "49\n",
      "请输入这两个数的和：22\n",
      "结果为假\n"
     ]
    }
   ],
   "source": [
    "import random\n",
    "a = random.randint(0,100)\n",
    "b = random.randint(0,100)\n",
    "print(a)\n",
    "print(b)\n",
    "sum = eval(input(\"请输入这两个数的和：\"))\n",
    "if sum == a + b:\n",
    "    print(\"结果为真\")\n",
    "else:\n",
    "    print(\"结果为假\")"
   ]
  },
  {
   "cell_type": "markdown",
   "metadata": {},
   "source": [
    "- 3\n",
    "![](../Photo/44.png)"
   ]
  },
  {
   "cell_type": "code",
   "execution_count": 5,
   "metadata": {},
   "outputs": [
    {
     "name": "stdout",
     "output_type": "stream",
     "text": [
      "请输入星期数字:1\n",
      "今天之后到未来某天的天数:31\n",
      "Today is 1 and the future day is Thursday\n"
     ]
    }
   ],
   "source": [
    "today = eval(input('请输入星期数字:'))\n",
    "n = eval(input('今天之后到未来某天的天数:'))\n",
    "day_f = (today + n) % 7\n",
    "if day_f == 0:\n",
    "    print('Today is',today,'and the future day is Sunday')\n",
    "elif day_f == 1:\n",
    "    print('Today is',today,'and the future day is Monday')\n",
    "elif day_f == 2:\n",
    "    print('Today is',today,'and the future day is Tuesday')\n",
    "elif day_f == 3:\n",
    "    print('Today is',today,'and the future day is Wednesday')\n",
    "elif day_f == 4:\n",
    "    print('Today is',today,'and the future day is Thursday')\n",
    "elif day_f == 5:\n",
    "    print('Today is',today,'and the future day is Friday')\n",
    "elif day_f == 6:\n",
    "    print('Today is',today,'and the future day is Saturday')"
   ]
  },
  {
   "cell_type": "markdown",
   "metadata": {},
   "source": [
    "- 4\n",
    "![](../Photo/45.png)"
   ]
  },
  {
   "cell_type": "code",
   "execution_count": 16,
   "metadata": {},
   "outputs": [
    {
     "name": "stdout",
     "output_type": "stream",
     "text": [
      "请输入第一个整数：5\n",
      "请输入第二个整数：4\n",
      "请输入第三个整数：7\n",
      "[4, 5, 7]\n"
     ]
    }
   ],
   "source": [
    "num_1 = eval(input(\"请输入第一个整数：\"))\n",
    "num_2 = eval(input(\"请输入第二个整数：\"))\n",
    "num_3 = eval(input(\"请输入第三个整数：\"))\n",
    "nums = [num_1,num_2,num_3]\n",
    "nums.sort()\n",
    "print(nums)"
   ]
  },
  {
   "cell_type": "markdown",
   "metadata": {},
   "source": [
    "- 5\n",
    "![](../Photo/46.png)"
   ]
  },
  {
   "cell_type": "code",
   "execution_count": 8,
   "metadata": {},
   "outputs": [
    {
     "name": "stdout",
     "output_type": "stream",
     "text": [
      "请输入重量,价钱：50,24.59\n",
      "请输入重量,价钱：25,11.99\n",
      "包装2的价钱更好\n"
     ]
    }
   ],
   "source": [
    "w1,p1 = eval(input(\"请输入重量,价钱：\"))\n",
    "w2,p2 = eval(input(\"请输入重量,价钱：\"))\n",
    "if p1 < p2 :\n",
    "    print(\"包装1的价钱更好\")\n",
    "else:\n",
    "    print(\"包装2的价钱更好\")"
   ]
  },
  {
   "cell_type": "markdown",
   "metadata": {},
   "source": [
    "- 6\n",
    "![](../Photo/47.png)"
   ]
  },
  {
   "cell_type": "code",
   "execution_count": 3,
   "metadata": {},
   "outputs": [
    {
     "name": "stdout",
     "output_type": "stream",
     "text": [
      "输入年：2001\n",
      "输入月：2\n",
      "28\n"
     ]
    }
   ],
   "source": [
    "year = eval(input(\"输入年：\"))\n",
    "month = eval(input(\"输入月：\"))\n",
    "if ( year % 4 == 0 and year % 100 != 0 ) or ( year % 400 == 0):\n",
    "    if (month == 2):\n",
    "        print(29)\n",
    "    if (month == 1 or month == 3 or month == 5 or month == 7 or month == 8 or month == 10 or month == 12 ):\n",
    "        print(31)\n",
    "    if ( month == 4 or month == 6 or month == 9 or month == 11):\n",
    "        print(30)\n",
    "if ( year % 4 != 0 and year % 100 == 0 ) or ( year % 400 != 0):\n",
    "    if (month == 2):\n",
    "        print(28)\n",
    "    if (month == 1 or month == 3 or month == 5 or month == 7 or month == 8 or month == 10 or month == 12 ):\n",
    "        print(31)\n",
    "    if ( month == 4 or month == 6 or month == 9 or month == 11):\n",
    "        print(30)"
   ]
  },
  {
   "cell_type": "markdown",
   "metadata": {},
   "source": [
    "- 7\n",
    "![](../Photo/48.png)"
   ]
  },
  {
   "cell_type": "code",
   "execution_count": 10,
   "metadata": {},
   "outputs": [
    {
     "name": "stdout",
     "output_type": "stream",
     "text": [
      "请输入你的猜测值{1/2}1\n",
      "正\n",
      "错误\n"
     ]
    }
   ],
   "source": [
    "import random\n",
    "number = random.choice(\"正\"or\"反\")\n",
    "number_1 = eval(input(\"请输入你的猜测值{1/2}))\n",
    "print(number)\n",
    "正 = 1\n",
    "反 = 2\n",
    "if number_1 == number:\n",
    "    print(\"正确\")\n",
    "else:\n",
    "    print(\"错误\")"
   ]
  },
  {
   "cell_type": "markdown",
   "metadata": {},
   "source": [
    "- 8\n",
    "![](../Photo/49.png)"
   ]
  },
  {
   "cell_type": "code",
   "execution_count": 7,
   "metadata": {},
   "outputs": [
    {
     "name": "stdout",
     "output_type": "stream",
     "text": [
      "剪刀(0),石头(1),布(2)：2\n",
      "1 2 你赢了\n"
     ]
    }
   ],
   "source": [
    "import random\n",
    "p = int(input(\"剪刀(0),石头(1),布(2)：\"))\n",
    "c = random.randint(0,2)\n",
    "if p > c:\n",
    "    print(c,p,\"你赢了\")\n",
    "elif p == c:\n",
    "    print(c,p,\"平局\")\n",
    "elif p == 2 and c == 0:\n",
    "    print(c,p,\"你赢了\")\n",
    "elif p == 0 and c == 2:\n",
    "    print(c,p,\"你输了\")"
   ]
  },
  {
   "cell_type": "code",
   "execution_count": 13,
   "metadata": {},
   "outputs": [],
   "source": [
    "import random"
   ]
  },
  {
   "cell_type": "markdown",
   "metadata": {},
   "source": [
    "- 10\n",
    "![](../Photo/51.png)"
   ]
  },
  {
   "cell_type": "code",
   "execution_count": 11,
   "metadata": {},
   "outputs": [
    {
     "name": "stdout",
     "output_type": "stream",
     "text": [
      "请输入一个数:5\n"
     ]
    }
   ],
   "source": [
    "color = random.randint(0,4)\n",
    "huase =('梅花','红桃','方块','黑桃')\n",
    "card = ('Arc','2','3','4','5','6','7','8','9','10','Jake','Queen','King')\n",
    "if\n",
    "print()"
   ]
  },
  {
   "cell_type": "markdown",
   "metadata": {},
   "source": [
    "- 11\n",
    "![](../Photo/52.png)"
   ]
  },
  {
   "cell_type": "code",
   "execution_count": 9,
   "metadata": {},
   "outputs": [
    {
     "name": "stdout",
     "output_type": "stream",
     "text": [
      "请输入一个三位整数:212\n",
      "是回文数\n"
     ]
    }
   ],
   "source": [
    "number = input(\"请输入一个三位整数:\")\n",
    "if number == number[::-1]:\n",
    "    print(\"是回文数\")\n",
    "else: \n",
    "    print (\"不是回文数\")   "
   ]
  },
  {
   "cell_type": "markdown",
   "metadata": {},
   "source": [
    "- 12\n",
    "![](../Photo/53.png)"
   ]
  },
  {
   "cell_type": "code",
   "execution_count": 15,
   "metadata": {
    "scrolled": true
   },
   "outputs": [
    {
     "name": "stdout",
     "output_type": "stream",
     "text": [
      "请输入三边边长a,b,c：1,1,1\n",
      "3\n"
     ]
    }
   ],
   "source": [
    "a,b,c = eval(input(\"请输入三边边长a,b,c：\")) \n",
    "l = a+b+c\n",
    "if a+b>c and a+c>b and b+c>a:\n",
    "    print(l)\n",
    "else:\n",
    "    print(\"这个输入是非法的\")"
   ]
  }
 ],
 "metadata": {
  "kernelspec": {
   "display_name": "Python 3",
   "language": "python",
   "name": "python3"
  },
  "language_info": {
   "codemirror_mode": {
    "name": "ipython",
    "version": 3
   },
   "file_extension": ".py",
   "mimetype": "text/x-python",
   "name": "python",
   "nbconvert_exporter": "python",
   "pygments_lexer": "ipython3",
   "version": "3.6.4"
  }
 },
 "nbformat": 4,
 "nbformat_minor": 2
}
